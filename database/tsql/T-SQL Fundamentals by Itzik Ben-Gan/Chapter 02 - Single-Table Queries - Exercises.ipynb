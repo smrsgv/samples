{
    "metadata": {
        "kernelspec": {
            "name": "SQL",
            "display_name": "SQL",
            "language": "sql"
        },
        "language_info": {
            "name": "sql",
            "version": ""
        }
    },
    "nbformat_minor": 2,
    "nbformat": 4,
    "cells": [
        {
            "cell_type": "markdown",
            "source": [
                "\\-- 1 \n",
                "\n",
                "\\-- Return orders placed in June 2021\n",
                "\n",
                "\\-- Tables involved: TSQLV6 database, Sales.Orders table\n",
                "\n",
                "  \n",
                "\n",
                "\\-- Desired output:\n",
                "\n",
                "orderid     orderdate  custid      empid\n",
                "\n",
                "\\----------- ---------- ----------- -----------\n",
                "\n",
                "10555       2021-06-02 71          6\n",
                "\n",
                "10556       2021-06-03 73          2\n",
                "\n",
                "10557       2021-06-03 44          9\n",
                "\n",
                "10558       2021-06-04 4           1\n",
                "\n",
                "10559       2021-06-05 7           6\n",
                "\n",
                "10560       2021-06-06 25          8\n",
                "\n",
                "10561       2021-06-06 24          2\n",
                "\n",
                "10562       2021-06-09 66          1\n",
                "\n",
                "10563       2021-06-10 67          2\n",
                "\n",
                "10564       2021-06-10 65          4\n",
                "\n",
                "...\n",
                "\n",
                "  \n",
                "\n",
                "(30 rows affected)"
            ],
            "metadata": {
                "azdata_cell_guid": "fe48a75f-7be5-48bb-9fd0-02063e089c71"
            },
            "attachments": {}
        },
        {
            "cell_type": "code",
            "source": [
                ""
            ],
            "metadata": {
                "azdata_cell_guid": "edc3ad86-45bf-4659-a970-4e14237af9bd",
                "language": "sql"
            },
            "outputs": [],
            "execution_count": null
        },
        {
            "cell_type": "markdown",
            "source": [
                "\\-- 2 \n",
                "\n",
                "\\-- Return orders placed on the day before the last day of the month\n",
                "\n",
                "\\-- Tables involved: Sales.Orders table\n",
                "\n",
                "  \n",
                "\n",
                "\\-- Desired output:\n",
                "\n",
                "orderid     orderdate  custid      empid\n",
                "\n",
                "\\----------- ---------- ----------- -----------\n",
                "\n",
                "10268       2020-07-30 33          8\n",
                "\n",
                "10294       2020-08-30 65          4\n",
                "\n",
                "10342       2020-10-30 25          4\n",
                "\n",
                "10368       2020-11-29 20          2\n",
                "\n",
                "10398       2020-12-30 71          2\n",
                "\n",
                "10430       2021-01-30 20          4\n",
                "\n",
                "10431       2021-01-30 10          4\n",
                "\n",
                "10459       2021-02-27 84          4\n",
                "\n",
                "10520       2021-04-29 70          7\n",
                "\n",
                "10521       2021-04-29 12          8\n",
                "\n",
                "...\n",
                "\n",
                "  \n",
                "\n",
                "(30 rows affected)"
            ],
            "metadata": {
                "language": "sql",
                "azdata_cell_guid": "acca4cca-be0e-4d0c-9e89-e17268a2a35b"
            },
            "attachments": {}
        },
        {
            "cell_type": "code",
            "source": [
                ""
            ],
            "metadata": {
                "language": "sql",
                "azdata_cell_guid": "76f404af-c5fa-437b-9bdf-e3e2c297662e"
            },
            "outputs": [],
            "execution_count": null
        },
        {
            "cell_type": "markdown",
            "source": [
                "\\-- 3 \n",
                "\n",
                "\\-- Return employees with last name containing the letter 'e' twice or more\n",
                "\n",
                "\\-- Tables involved: HR.Employees table\n",
                "\n",
                "  \n",
                "\n",
                "\\-- Desired output:\n",
                "\n",
                "empid       firstname  lastname\n",
                "\n",
                "\\----------- ---------- --------------------\n",
                "\n",
                "4           Yael       Peled\n",
                "\n",
                "5           Sven       Mortensen\n",
                "\n",
                "  \n",
                "\n",
                "(2 rows affected)"
            ],
            "metadata": {
                "language": "sql",
                "azdata_cell_guid": "95d20619-52fe-4ced-9bee-258626725a42"
            },
            "attachments": {}
        },
        {
            "cell_type": "code",
            "source": [
                ""
            ],
            "metadata": {
                "language": "sql",
                "azdata_cell_guid": "d4b5fa27-c5d7-45a5-9489-1a4f8aebf64a"
            },
            "outputs": [],
            "execution_count": null
        },
        {
            "cell_type": "markdown",
            "source": [
                "\\-- 4 \n",
                "\n",
                "\\-- Return orders with total value(qty\\*unitprice) greater than 10000\n",
                "\n",
                "\\-- sorted by total value\n",
                "\n",
                "\\-- Tables involved: Sales.OrderDetails table\n",
                "\n",
                "  \n",
                "\n",
                "\\-- Desired output:\n",
                "\n",
                "orderid     totalvalue\n",
                "\n",
                "\\----------- ---------------------\n",
                "\n",
                "10865       17250.00\n",
                "\n",
                "11030       16321.90\n",
                "\n",
                "10981       15810.00\n",
                "\n",
                "10372       12281.20\n",
                "\n",
                "10424       11493.20\n",
                "\n",
                "10817       11490.70\n",
                "\n",
                "10889       11380.00\n",
                "\n",
                "10417       11283.20\n",
                "\n",
                "10897       10835.24\n",
                "\n",
                "10353       10741.60\n",
                "\n",
                "10515       10588.50\n",
                "\n",
                "10479       10495.60\n",
                "\n",
                "10540       10191.70\n",
                "\n",
                "10691       10164.80\n",
                "\n",
                "  \n",
                "\n",
                "(14 rows affected)"
            ],
            "metadata": {
                "language": "sql",
                "azdata_cell_guid": "b83129b5-161e-4815-9210-f659c6f3650c"
            },
            "attachments": {}
        },
        {
            "cell_type": "code",
            "source": [
                ""
            ],
            "metadata": {
                "language": "sql",
                "azdata_cell_guid": "7f1d5c85-bb7c-49e3-80bd-cf0ffd234144"
            },
            "outputs": [],
            "execution_count": null
        },
        {
            "cell_type": "markdown",
            "source": [
                "\\-- 5\n",
                "\n",
                "\\-- Write a query against the HR.Employees table that returns employees\n",
                "\n",
                "\\-- with a last name that starts with a lower case letter.\n",
                "\n",
                "\\-- Remember that the collation of the sample database\n",
                "\n",
                "\\-- is case insensitive (Latin1\\_General\\_CI\\_AS).\n",
                "\n",
                "\\-- For simplicity, you can assume that only English letters are used\n",
                "\n",
                "\\-- in the employee last names.\n",
                "\n",
                "\\-- Tables involved: Sales.OrderDetails table\n",
                "\n",
                "  \n",
                "\n",
                "\\-- Desired output:\n",
                "\n",
                "empid       lastname\n",
                "\n",
                "\\----------- --------------------\n",
                "\n",
                "  \n",
                "\n",
                "(0 rows affected)"
            ],
            "metadata": {
                "language": "sql",
                "azdata_cell_guid": "50faeeb6-13d5-40b8-a3fb-55865c201863"
            },
            "attachments": {}
        },
        {
            "cell_type": "code",
            "source": [
                ""
            ],
            "metadata": {
                "language": "sql",
                "azdata_cell_guid": "8e3ebb3a-85f4-42af-a5a8-8b4e99b06a50"
            },
            "outputs": [],
            "execution_count": null
        },
        {
            "cell_type": "markdown",
            "source": [
                "\\-- 6\n",
                "\n",
                "\\-- Explain the difference between the following two queries\n",
                "\n",
                "  \n",
                "\n",
                "\\-- Query 1\n",
                "\n",
                "SELECT empid, COUNT(\\*) AS numorders\n",
                "\n",
                "FROM Sales.Orders\n",
                "\n",
                "WHERE orderdate \\< '20220501'\n",
                "\n",
                "GROUP BY empid;\n",
                "\n",
                "  \n",
                "\n",
                "\\-- Query 2\n",
                "\n",
                "SELECT empid, COUNT(\\*) AS numorders\n",
                "\n",
                "FROM Sales.Orders\n",
                "\n",
                "GROUP BY empid\n",
                "\n",
                "HAVING MAX(orderdate) \\< '20220501';"
            ],
            "metadata": {
                "language": "sql",
                "azdata_cell_guid": "e64da230-d36f-4853-8494-3ba2c591026d"
            },
            "attachments": {}
        },
        {
            "cell_type": "code",
            "source": [
                ""
            ],
            "metadata": {
                "language": "sql",
                "azdata_cell_guid": "915b14e3-d700-4509-a008-60f1e0987bbc"
            },
            "outputs": [],
            "execution_count": null
        },
        {
            "cell_type": "markdown",
            "source": [
                "\\-- 7 \n",
                "\n",
                "\\-- Return the three ship countries with the highest average freight for orders placed in 2021\n",
                "\n",
                "\\-- Tables involved: Sales.Orders table\n",
                "\n",
                "  \n",
                "\n",
                "\\-- Desired output:\n",
                "\n",
                "shipcountry     avgfreight\n",
                "\n",
                "\\--------------- ---------------------\n",
                "\n",
                "Austria         178.3642\n",
                "\n",
                "Switzerland     117.1775\n",
                "\n",
                "Sweden          105.16\n",
                "\n",
                "  \n",
                "\n",
                "(3 rows affected)"
            ],
            "metadata": {
                "language": "sql",
                "azdata_cell_guid": "da97d452-efaf-4c66-ba1e-8d28c50a5b03"
            },
            "attachments": {}
        },
        {
            "cell_type": "code",
            "source": [
                ""
            ],
            "metadata": {
                "language": "sql",
                "azdata_cell_guid": "ee8a24bb-44a6-4bfb-ac00-56642a6b0fbc"
            },
            "outputs": [],
            "execution_count": null
        },
        {
            "cell_type": "markdown",
            "source": [
                "\\-- 8 \n",
                "\n",
                "\\-- Calculate row numbers for orders\n",
                "\n",
                "\\-- based on order date ordering (using order id as tiebreaker)\n",
                "\n",
                "\\-- for each customer separately\n",
                "\n",
                "\\-- Tables involved: Sales.Orders table\n",
                "\n",
                "  \n",
                "\n",
                "\\-- Desired output:\n",
                "\n",
                "custid      orderdate  orderid     rownum\n",
                "\n",
                "\\----------- ---------- ----------- --------------------\n",
                "\n",
                "1           2021-08-25 10643       1\n",
                "\n",
                "1           2021-10-03 10692       2\n",
                "\n",
                "1           2021-10-13 10702       3\n",
                "\n",
                "1           2022-01-15 10835       4\n",
                "\n",
                "1           2022-03-16 10952       5\n",
                "\n",
                "1           2022-04-09 11011       6\n",
                "\n",
                "2           2020-09-18 10308       1\n",
                "\n",
                "2           2021-08-08 10625       2\n",
                "\n",
                "2           2021-11-28 10759       3\n",
                "\n",
                "2           2022-03-04 10926       4\n",
                "\n",
                "...\n",
                "\n",
                "  \n",
                "\n",
                "(830 rows affected)"
            ],
            "metadata": {
                "language": "sql",
                "azdata_cell_guid": "89484a33-6920-4969-bbb6-458300a02728"
            },
            "attachments": {}
        },
        {
            "cell_type": "code",
            "source": [
                ""
            ],
            "metadata": {
                "language": "sql",
                "azdata_cell_guid": "822424a1-438f-4d51-a7eb-b75feb64725b"
            },
            "outputs": [],
            "execution_count": null
        },
        {
            "cell_type": "markdown",
            "source": [
                "\\-- 9\n",
                "\n",
                "\\-- Figure out and return for each employee the gender based on the title of courtesy\n",
                "\n",
                "\\-- Ms., Mrs. - Female, Mr. - Male, Dr. - Unknown\n",
                "\n",
                "\\-- Tables involved: HR.Employees table\n",
                "\n",
                "  \n",
                "\n",
                "\\-- Desired output:\n",
                "\n",
                "empid       firstname  lastname             titleofcourtesy           gender\n",
                "\n",
                "\\----------- ---------- -------------------- ------------------------- -------\n",
                "\n",
                "1           Sara       Davis                Ms.                       Female\n",
                "\n",
                "2           Don        Funk                 Dr.                       Unknown\n",
                "\n",
                "3           Judy       Lew                  Ms.                       Female\n",
                "\n",
                "4           Yael       Peled                Mrs.                      Female\n",
                "\n",
                "5           Sven       Mortensen            Mr.                       Male\n",
                "\n",
                "6           Paul       Suurs                Mr.                       Male\n",
                "\n",
                "7           Russell    King                 Mr.                       Male\n",
                "\n",
                "8           Maria      Cameron              Ms.                       Female\n",
                "\n",
                "9           Patricia   Doyle                Ms.                       Female\n",
                "\n",
                "  \n",
                "\n",
                "(9 rows affected)"
            ],
            "metadata": {
                "language": "sql",
                "azdata_cell_guid": "84d89c3a-0b12-481c-a299-e4ee72cd866d"
            },
            "attachments": {}
        },
        {
            "cell_type": "code",
            "source": [
                ""
            ],
            "metadata": {
                "language": "sql",
                "azdata_cell_guid": "edfd7a11-f1d6-44cf-abee-e4f42d9ede83"
            },
            "outputs": [],
            "execution_count": null
        },
        {
            "cell_type": "markdown",
            "source": [
                "\\-- 10\n",
                "\n",
                "\\-- Return for each customer the customer ID and region\n",
                "\n",
                "\\-- sort the rows in the output by region, ascending\n",
                "\n",
                "\\-- having NULLs sort last (after non-NULL values)\n",
                "\n",
                "\\-- Note that the default in T-SQL is that NULLs sort first\n",
                "\n",
                "\\-- Tables involved: Sales.Customers table\n",
                "\n",
                "  \n",
                "\n",
                "\\-- Desired output:\n",
                "\n",
                "custid      region\n",
                "\n",
                "\\----------- ---------------\n",
                "\n",
                "55          AK\n",
                "\n",
                "10          BC\n",
                "\n",
                "42          BC\n",
                "\n",
                "45          CA\n",
                "\n",
                "37          Co. Cork\n",
                "\n",
                "33          DF\n",
                "\n",
                "71          ID\n",
                "\n",
                "38          Isle of Wight\n",
                "\n",
                "46          Lara\n",
                "\n",
                "78          MT\n",
                "\n",
                "...\n",
                "\n",
                "1           NULL\n",
                "\n",
                "2           NULL\n",
                "\n",
                "3           NULL\n",
                "\n",
                "4           NULL\n",
                "\n",
                "5           NULL\n",
                "\n",
                "6           NULL\n",
                "\n",
                "7           NULL\n",
                "\n",
                "8           NULL\n",
                "\n",
                "9           NULL\n",
                "\n",
                "11          NULL\n",
                "\n",
                "...\n",
                "\n",
                "  \n",
                "\n",
                "(91 rows affected)"
            ],
            "metadata": {
                "language": "sql",
                "azdata_cell_guid": "ef633ccb-7cb1-4d7c-a1eb-2269ecbd48e0"
            },
            "attachments": {}
        },
        {
            "cell_type": "code",
            "source": [
                ""
            ],
            "metadata": {
                "language": "sql",
                "azdata_cell_guid": "e878c545-9c69-44ad-aafe-2cf5c3e4bacb"
            },
            "outputs": [],
            "execution_count": null
        }
    ]
}